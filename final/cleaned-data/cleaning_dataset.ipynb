{
  "nbformat": 4,
  "nbformat_minor": 0,
  "metadata": {
    "colab": {
      "name": "cleaning-dataset.ipynb",
      "provenance": [],
      "collapsed_sections": []
    },
    "kernelspec": {
      "name": "python3",
      "display_name": "Python 3"
    },
    "language_info": {
      "name": "python"
    }
  },
  "cells": [
    {
      "cell_type": "markdown",
      "source": [
        "First, let's import the needed libraries and datasets, and preview imported datasets."
      ],
      "metadata": {
        "id": "Rb3vxm32NiRz"
      }
    },
    {
      "cell_type": "code",
      "metadata": {
        "colab": {
          "base_uri": "https://localhost:8080/",
          "height": 310
        },
        "id": "gdbU3zU63l80",
        "outputId": "40b2f88d-937e-449e-abfe-b76656b4f15e"
      },
      "source": [
        "import pandas as pd\n",
        "import numpy as np\n",
        "\n",
        "dataset_filtered = pd.read_csv('https://raw.githubusercontent.com/projectavi/csc110-project/main/data/filtered_data.csv?token=APPASTSPQ26QCCNATR4NBEDBXTYFQ')\n",
        "dataset_filtered.head(5)"
      ],
      "execution_count": 1,
      "outputs": [
        {
          "output_type": "execute_result",
          "data": {
            "text/html": [
              "<div>\n",
              "<style scoped>\n",
              "    .dataframe tbody tr th:only-of-type {\n",
              "        vertical-align: middle;\n",
              "    }\n",
              "\n",
              "    .dataframe tbody tr th {\n",
              "        vertical-align: top;\n",
              "    }\n",
              "\n",
              "    .dataframe thead th {\n",
              "        text-align: right;\n",
              "    }\n",
              "</style>\n",
              "<table border=\"1\" class=\"dataframe\">\n",
              "  <thead>\n",
              "    <tr style=\"text-align: right;\">\n",
              "      <th></th>\n",
              "      <th>Unnamed: 0</th>\n",
              "      <th>type</th>\n",
              "      <th>id</th>\n",
              "      <th>subreddit.id</th>\n",
              "      <th>subreddit.name</th>\n",
              "      <th>subreddit.nsfw</th>\n",
              "      <th>created_utc</th>\n",
              "      <th>permalink</th>\n",
              "      <th>body</th>\n",
              "      <th>sentiment</th>\n",
              "      <th>score</th>\n",
              "    </tr>\n",
              "  </thead>\n",
              "  <tbody>\n",
              "    <tr>\n",
              "      <th>0</th>\n",
              "      <td>59</td>\n",
              "      <td>comment</td>\n",
              "      <td>hi1verl</td>\n",
              "      <td>2cneq</td>\n",
              "      <td>politics</td>\n",
              "      <td>False</td>\n",
              "      <td>1635206220</td>\n",
              "      <td>https://old.reddit.com/r/politics/comments/qft...</td>\n",
              "      <td>Once my kid can get the vax.... I'm gonna have...</td>\n",
              "      <td>-0.4969</td>\n",
              "      <td>1</td>\n",
              "    </tr>\n",
              "    <tr>\n",
              "      <th>1</th>\n",
              "      <td>172</td>\n",
              "      <td>comment</td>\n",
              "      <td>hi1uqe2</td>\n",
              "      <td>2cneq</td>\n",
              "      <td>politics</td>\n",
              "      <td>False</td>\n",
              "      <td>1635205901</td>\n",
              "      <td>https://old.reddit.com/r/politics/comments/qfl...</td>\n",
              "      <td>Here's two decent little articles:\\n\\nhttps://...</td>\n",
              "      <td>0.0000</td>\n",
              "      <td>1</td>\n",
              "    </tr>\n",
              "    <tr>\n",
              "      <th>2</th>\n",
              "      <td>267</td>\n",
              "      <td>comment</td>\n",
              "      <td>hi1u8wg</td>\n",
              "      <td>2cneq</td>\n",
              "      <td>politics</td>\n",
              "      <td>False</td>\n",
              "      <td>1635205676</td>\n",
              "      <td>https://old.reddit.com/r/politics/comments/qfs...</td>\n",
              "      <td>Because everyone else got polio vaccines too, ...</td>\n",
              "      <td>0.0000</td>\n",
              "      <td>1</td>\n",
              "    </tr>\n",
              "    <tr>\n",
              "      <th>3</th>\n",
              "      <td>336</td>\n",
              "      <td>comment</td>\n",
              "      <td>hi1tslf</td>\n",
              "      <td>2cneq</td>\n",
              "      <td>politics</td>\n",
              "      <td>False</td>\n",
              "      <td>1635205465</td>\n",
              "      <td>https://old.reddit.com/r/politics/comments/qfl...</td>\n",
              "      <td>I see a lot of covid republican expatients vot...</td>\n",
              "      <td>0.0000</td>\n",
              "      <td>1</td>\n",
              "    </tr>\n",
              "    <tr>\n",
              "      <th>4</th>\n",
              "      <td>374</td>\n",
              "      <td>comment</td>\n",
              "      <td>hi1tmv6</td>\n",
              "      <td>2cneq</td>\n",
              "      <td>politics</td>\n",
              "      <td>False</td>\n",
              "      <td>1635205392</td>\n",
              "      <td>https://old.reddit.com/r/politics/comments/qfg...</td>\n",
              "      <td>Because his tone changed. Leading most people ...</td>\n",
              "      <td>-0.0212</td>\n",
              "      <td>1</td>\n",
              "    </tr>\n",
              "  </tbody>\n",
              "</table>\n",
              "</div>"
            ],
            "text/plain": [
              "   Unnamed: 0     type  ... sentiment score\n",
              "0          59  comment  ...   -0.4969     1\n",
              "1         172  comment  ...    0.0000     1\n",
              "2         267  comment  ...    0.0000     1\n",
              "3         336  comment  ...    0.0000     1\n",
              "4         374  comment  ...   -0.0212     1\n",
              "\n",
              "[5 rows x 11 columns]"
            ]
          },
          "metadata": {},
          "execution_count": 1
        }
      ]
    },
    {
      "cell_type": "code",
      "source": [
        "dataset_filtered_us = pd.read_csv('https://raw.githubusercontent.com/projectavi/csc110-project/main/data/filtered_data_us.csv?token=APPASTUN4HA4VNVF3RB52F3BXTYKC')\n",
        "dataset_filtered_us.head(5)"
      ],
      "metadata": {
        "colab": {
          "base_uri": "https://localhost:8080/",
          "height": 310
        },
        "id": "L1O44dBJAHam",
        "outputId": "5ed82770-91d7-452b-a70a-7085d0a58e03"
      },
      "execution_count": 2,
      "outputs": [
        {
          "output_type": "execute_result",
          "data": {
            "text/html": [
              "<div>\n",
              "<style scoped>\n",
              "    .dataframe tbody tr th:only-of-type {\n",
              "        vertical-align: middle;\n",
              "    }\n",
              "\n",
              "    .dataframe tbody tr th {\n",
              "        vertical-align: top;\n",
              "    }\n",
              "\n",
              "    .dataframe thead th {\n",
              "        text-align: right;\n",
              "    }\n",
              "</style>\n",
              "<table border=\"1\" class=\"dataframe\">\n",
              "  <thead>\n",
              "    <tr style=\"text-align: right;\">\n",
              "      <th></th>\n",
              "      <th>Unnamed: 0</th>\n",
              "      <th>type</th>\n",
              "      <th>id</th>\n",
              "      <th>subreddit.id</th>\n",
              "      <th>subreddit.name</th>\n",
              "      <th>subreddit.nsfw</th>\n",
              "      <th>created_utc</th>\n",
              "      <th>permalink</th>\n",
              "      <th>body</th>\n",
              "      <th>sentiment</th>\n",
              "      <th>score</th>\n",
              "    </tr>\n",
              "  </thead>\n",
              "  <tbody>\n",
              "    <tr>\n",
              "      <th>0</th>\n",
              "      <td>10965</td>\n",
              "      <td>comment</td>\n",
              "      <td>hi07rto</td>\n",
              "      <td>2qwlq</td>\n",
              "      <td>uspolitics</td>\n",
              "      <td>False</td>\n",
              "      <td>1635181242</td>\n",
              "      <td>https://old.reddit.com/r/uspolitics/comments/q...</td>\n",
              "      <td>&amp;gt;An Asian American mother with a master’s d...</td>\n",
              "      <td>0.0150</td>\n",
              "      <td>1</td>\n",
              "    </tr>\n",
              "    <tr>\n",
              "      <th>1</th>\n",
              "      <td>19227</td>\n",
              "      <td>comment</td>\n",
              "      <td>hhyxyfg</td>\n",
              "      <td>2qwlq</td>\n",
              "      <td>uspolitics</td>\n",
              "      <td>False</td>\n",
              "      <td>1635158133</td>\n",
              "      <td>https://old.reddit.com/r/uspolitics/comments/q...</td>\n",
              "      <td>&amp;gt;For many Americans, Donald Trump will be r...</td>\n",
              "      <td>-0.6908</td>\n",
              "      <td>2</td>\n",
              "    </tr>\n",
              "    <tr>\n",
              "      <th>2</th>\n",
              "      <td>28493</td>\n",
              "      <td>comment</td>\n",
              "      <td>hhxez68</td>\n",
              "      <td>2qied</td>\n",
              "      <td>americanpolitics</td>\n",
              "      <td>False</td>\n",
              "      <td>1635120959</td>\n",
              "      <td>https://old.reddit.com/r/AmericanPolitics/comm...</td>\n",
              "      <td>Fauci admitted to downplaying the importance o...</td>\n",
              "      <td>-0.8228</td>\n",
              "      <td>7</td>\n",
              "    </tr>\n",
              "    <tr>\n",
              "      <th>3</th>\n",
              "      <td>31501</td>\n",
              "      <td>comment</td>\n",
              "      <td>hhwxpcy</td>\n",
              "      <td>2qwlq</td>\n",
              "      <td>uspolitics</td>\n",
              "      <td>False</td>\n",
              "      <td>1635112618</td>\n",
              "      <td>https://old.reddit.com/r/uspolitics/comments/q...</td>\n",
              "      <td>“Fauci holds x opinion while a private company...</td>\n",
              "      <td>-0.5013</td>\n",
              "      <td>14</td>\n",
              "    </tr>\n",
              "    <tr>\n",
              "      <th>4</th>\n",
              "      <td>32499</td>\n",
              "      <td>comment</td>\n",
              "      <td>hhwrs43</td>\n",
              "      <td>2qied</td>\n",
              "      <td>americanpolitics</td>\n",
              "      <td>False</td>\n",
              "      <td>1635110006</td>\n",
              "      <td>https://old.reddit.com/r/AmericanPolitics/comm...</td>\n",
              "      <td>Na. Its what an intelligent person would say.\\...</td>\n",
              "      <td>0.7065</td>\n",
              "      <td>9</td>\n",
              "    </tr>\n",
              "  </tbody>\n",
              "</table>\n",
              "</div>"
            ],
            "text/plain": [
              "   Unnamed: 0     type  ... sentiment score\n",
              "0       10965  comment  ...    0.0150     1\n",
              "1       19227  comment  ...   -0.6908     2\n",
              "2       28493  comment  ...   -0.8228     7\n",
              "3       31501  comment  ...   -0.5013    14\n",
              "4       32499  comment  ...    0.7065     9\n",
              "\n",
              "[5 rows x 11 columns]"
            ]
          },
          "metadata": {},
          "execution_count": 2
        }
      ]
    },
    {
      "cell_type": "code",
      "source": [
        "dataset_filtered.describe(include='all')"
      ],
      "metadata": {
        "colab": {
          "base_uri": "https://localhost:8080/",
          "height": 429
        },
        "id": "kd2BrOiZBCpK",
        "outputId": "8f68b4e2-a9c6-49bf-fc90-8100113191ea"
      },
      "execution_count": 3,
      "outputs": [
        {
          "output_type": "execute_result",
          "data": {
            "text/html": [
              "<div>\n",
              "<style scoped>\n",
              "    .dataframe tbody tr th:only-of-type {\n",
              "        vertical-align: middle;\n",
              "    }\n",
              "\n",
              "    .dataframe tbody tr th {\n",
              "        vertical-align: top;\n",
              "    }\n",
              "\n",
              "    .dataframe thead th {\n",
              "        text-align: right;\n",
              "    }\n",
              "</style>\n",
              "<table border=\"1\" class=\"dataframe\">\n",
              "  <thead>\n",
              "    <tr style=\"text-align: right;\">\n",
              "      <th></th>\n",
              "      <th>Unnamed: 0</th>\n",
              "      <th>type</th>\n",
              "      <th>id</th>\n",
              "      <th>subreddit.id</th>\n",
              "      <th>subreddit.name</th>\n",
              "      <th>subreddit.nsfw</th>\n",
              "      <th>created_utc</th>\n",
              "      <th>permalink</th>\n",
              "      <th>body</th>\n",
              "      <th>sentiment</th>\n",
              "      <th>score</th>\n",
              "    </tr>\n",
              "  </thead>\n",
              "  <tbody>\n",
              "    <tr>\n",
              "      <th>count</th>\n",
              "      <td>3.233500e+04</td>\n",
              "      <td>32335</td>\n",
              "      <td>32335</td>\n",
              "      <td>32335</td>\n",
              "      <td>32335</td>\n",
              "      <td>32335</td>\n",
              "      <td>3.233500e+04</td>\n",
              "      <td>32335</td>\n",
              "      <td>32335</td>\n",
              "      <td>32033.000000</td>\n",
              "      <td>32335.000000</td>\n",
              "    </tr>\n",
              "    <tr>\n",
              "      <th>unique</th>\n",
              "      <td>NaN</td>\n",
              "      <td>1</td>\n",
              "      <td>32335</td>\n",
              "      <td>1</td>\n",
              "      <td>1</td>\n",
              "      <td>1</td>\n",
              "      <td>NaN</td>\n",
              "      <td>32335</td>\n",
              "      <td>32217</td>\n",
              "      <td>NaN</td>\n",
              "      <td>NaN</td>\n",
              "    </tr>\n",
              "    <tr>\n",
              "      <th>top</th>\n",
              "      <td>NaN</td>\n",
              "      <td>comment</td>\n",
              "      <td>hekjqfo</td>\n",
              "      <td>2cneq</td>\n",
              "      <td>politics</td>\n",
              "      <td>False</td>\n",
              "      <td>NaN</td>\n",
              "      <td>https://old.reddit.com/r/politics/comments/pky...</td>\n",
              "      <td>Risk of infection is lower if you are vaccinat...</td>\n",
              "      <td>NaN</td>\n",
              "      <td>NaN</td>\n",
              "    </tr>\n",
              "    <tr>\n",
              "      <th>freq</th>\n",
              "      <td>NaN</td>\n",
              "      <td>32335</td>\n",
              "      <td>1</td>\n",
              "      <td>32335</td>\n",
              "      <td>32335</td>\n",
              "      <td>32335</td>\n",
              "      <td>NaN</td>\n",
              "      <td>1</td>\n",
              "      <td>8</td>\n",
              "      <td>NaN</td>\n",
              "      <td>NaN</td>\n",
              "    </tr>\n",
              "    <tr>\n",
              "      <th>mean</th>\n",
              "      <td>1.154459e+06</td>\n",
              "      <td>NaN</td>\n",
              "      <td>NaN</td>\n",
              "      <td>NaN</td>\n",
              "      <td>NaN</td>\n",
              "      <td>NaN</td>\n",
              "      <td>1.632248e+09</td>\n",
              "      <td>NaN</td>\n",
              "      <td>NaN</td>\n",
              "      <td>-0.106267</td>\n",
              "      <td>13.836864</td>\n",
              "    </tr>\n",
              "    <tr>\n",
              "      <th>std</th>\n",
              "      <td>5.337002e+05</td>\n",
              "      <td>NaN</td>\n",
              "      <td>NaN</td>\n",
              "      <td>NaN</td>\n",
              "      <td>NaN</td>\n",
              "      <td>NaN</td>\n",
              "      <td>1.248711e+06</td>\n",
              "      <td>NaN</td>\n",
              "      <td>NaN</td>\n",
              "      <td>0.618454</td>\n",
              "      <td>142.056247</td>\n",
              "    </tr>\n",
              "    <tr>\n",
              "      <th>min</th>\n",
              "      <td>5.900000e+01</td>\n",
              "      <td>NaN</td>\n",
              "      <td>NaN</td>\n",
              "      <td>NaN</td>\n",
              "      <td>NaN</td>\n",
              "      <td>NaN</td>\n",
              "      <td>1.630487e+09</td>\n",
              "      <td>NaN</td>\n",
              "      <td>NaN</td>\n",
              "      <td>-0.999500</td>\n",
              "      <td>-130.000000</td>\n",
              "    </tr>\n",
              "    <tr>\n",
              "      <th>25%</th>\n",
              "      <td>7.131955e+05</td>\n",
              "      <td>NaN</td>\n",
              "      <td>NaN</td>\n",
              "      <td>NaN</td>\n",
              "      <td>NaN</td>\n",
              "      <td>NaN</td>\n",
              "      <td>1.631269e+09</td>\n",
              "      <td>NaN</td>\n",
              "      <td>NaN</td>\n",
              "      <td>-0.684800</td>\n",
              "      <td>1.000000</td>\n",
              "    </tr>\n",
              "    <tr>\n",
              "      <th>50%</th>\n",
              "      <td>1.299667e+06</td>\n",
              "      <td>NaN</td>\n",
              "      <td>NaN</td>\n",
              "      <td>NaN</td>\n",
              "      <td>NaN</td>\n",
              "      <td>NaN</td>\n",
              "      <td>1.631821e+09</td>\n",
              "      <td>NaN</td>\n",
              "      <td>NaN</td>\n",
              "      <td>-0.102700</td>\n",
              "      <td>2.000000</td>\n",
              "    </tr>\n",
              "    <tr>\n",
              "      <th>75%</th>\n",
              "      <td>1.584582e+06</td>\n",
              "      <td>NaN</td>\n",
              "      <td>NaN</td>\n",
              "      <td>NaN</td>\n",
              "      <td>NaN</td>\n",
              "      <td>NaN</td>\n",
              "      <td>1.633183e+09</td>\n",
              "      <td>NaN</td>\n",
              "      <td>NaN</td>\n",
              "      <td>0.440400</td>\n",
              "      <td>7.000000</td>\n",
              "    </tr>\n",
              "    <tr>\n",
              "      <th>max</th>\n",
              "      <td>1.999899e+06</td>\n",
              "      <td>NaN</td>\n",
              "      <td>NaN</td>\n",
              "      <td>NaN</td>\n",
              "      <td>NaN</td>\n",
              "      <td>NaN</td>\n",
              "      <td>1.635206e+09</td>\n",
              "      <td>NaN</td>\n",
              "      <td>NaN</td>\n",
              "      <td>0.999200</td>\n",
              "      <td>12725.000000</td>\n",
              "    </tr>\n",
              "  </tbody>\n",
              "</table>\n",
              "</div>"
            ],
            "text/plain": [
              "          Unnamed: 0     type  ...     sentiment         score\n",
              "count   3.233500e+04    32335  ...  32033.000000  32335.000000\n",
              "unique           NaN        1  ...           NaN           NaN\n",
              "top              NaN  comment  ...           NaN           NaN\n",
              "freq             NaN    32335  ...           NaN           NaN\n",
              "mean    1.154459e+06      NaN  ...     -0.106267     13.836864\n",
              "std     5.337002e+05      NaN  ...      0.618454    142.056247\n",
              "min     5.900000e+01      NaN  ...     -0.999500   -130.000000\n",
              "25%     7.131955e+05      NaN  ...     -0.684800      1.000000\n",
              "50%     1.299667e+06      NaN  ...     -0.102700      2.000000\n",
              "75%     1.584582e+06      NaN  ...      0.440400      7.000000\n",
              "max     1.999899e+06      NaN  ...      0.999200  12725.000000\n",
              "\n",
              "[11 rows x 11 columns]"
            ]
          },
          "metadata": {},
          "execution_count": 3
        }
      ]
    },
    {
      "cell_type": "code",
      "source": [
        "dataset_filtered_us.describe(include='all')"
      ],
      "metadata": {
        "colab": {
          "base_uri": "https://localhost:8080/",
          "height": 429
        },
        "id": "7arVMYZgBoUN",
        "outputId": "5d34f5c0-3124-4dcc-835a-b22c9b658ca6"
      },
      "execution_count": 4,
      "outputs": [
        {
          "output_type": "execute_result",
          "data": {
            "text/html": [
              "<div>\n",
              "<style scoped>\n",
              "    .dataframe tbody tr th:only-of-type {\n",
              "        vertical-align: middle;\n",
              "    }\n",
              "\n",
              "    .dataframe tbody tr th {\n",
              "        vertical-align: top;\n",
              "    }\n",
              "\n",
              "    .dataframe thead th {\n",
              "        text-align: right;\n",
              "    }\n",
              "</style>\n",
              "<table border=\"1\" class=\"dataframe\">\n",
              "  <thead>\n",
              "    <tr style=\"text-align: right;\">\n",
              "      <th></th>\n",
              "      <th>Unnamed: 0</th>\n",
              "      <th>type</th>\n",
              "      <th>id</th>\n",
              "      <th>subreddit.id</th>\n",
              "      <th>subreddit.name</th>\n",
              "      <th>subreddit.nsfw</th>\n",
              "      <th>created_utc</th>\n",
              "      <th>permalink</th>\n",
              "      <th>body</th>\n",
              "      <th>sentiment</th>\n",
              "      <th>score</th>\n",
              "    </tr>\n",
              "  </thead>\n",
              "  <tbody>\n",
              "    <tr>\n",
              "      <th>count</th>\n",
              "      <td>2.296000e+03</td>\n",
              "      <td>2296</td>\n",
              "      <td>2296</td>\n",
              "      <td>2296</td>\n",
              "      <td>2296</td>\n",
              "      <td>2296</td>\n",
              "      <td>2.296000e+03</td>\n",
              "      <td>2296</td>\n",
              "      <td>2296</td>\n",
              "      <td>2285.000000</td>\n",
              "      <td>2296.000000</td>\n",
              "    </tr>\n",
              "    <tr>\n",
              "      <th>unique</th>\n",
              "      <td>NaN</td>\n",
              "      <td>1</td>\n",
              "      <td>2296</td>\n",
              "      <td>5</td>\n",
              "      <td>5</td>\n",
              "      <td>1</td>\n",
              "      <td>NaN</td>\n",
              "      <td>2296</td>\n",
              "      <td>2266</td>\n",
              "      <td>NaN</td>\n",
              "      <td>NaN</td>\n",
              "    </tr>\n",
              "    <tr>\n",
              "      <th>top</th>\n",
              "      <td>NaN</td>\n",
              "      <td>comment</td>\n",
              "      <td>gaftcl0</td>\n",
              "      <td>2qwlq</td>\n",
              "      <td>uspolitics</td>\n",
              "      <td>False</td>\n",
              "      <td>NaN</td>\n",
              "      <td>https://old.reddit.com/r/uspolitics/comments/m...</td>\n",
              "      <td>The big lie. Covid misinformation. It all come...</td>\n",
              "      <td>NaN</td>\n",
              "      <td>NaN</td>\n",
              "    </tr>\n",
              "    <tr>\n",
              "      <th>freq</th>\n",
              "      <td>NaN</td>\n",
              "      <td>2296</td>\n",
              "      <td>1</td>\n",
              "      <td>1548</td>\n",
              "      <td>1548</td>\n",
              "      <td>2296</td>\n",
              "      <td>NaN</td>\n",
              "      <td>1</td>\n",
              "      <td>8</td>\n",
              "      <td>NaN</td>\n",
              "      <td>NaN</td>\n",
              "    </tr>\n",
              "    <tr>\n",
              "      <th>mean</th>\n",
              "      <td>9.052432e+06</td>\n",
              "      <td>NaN</td>\n",
              "      <td>NaN</td>\n",
              "      <td>NaN</td>\n",
              "      <td>NaN</td>\n",
              "      <td>NaN</td>\n",
              "      <td>1.610132e+09</td>\n",
              "      <td>NaN</td>\n",
              "      <td>NaN</td>\n",
              "      <td>-0.178967</td>\n",
              "      <td>2.344948</td>\n",
              "    </tr>\n",
              "    <tr>\n",
              "      <th>std</th>\n",
              "      <td>5.502129e+06</td>\n",
              "      <td>NaN</td>\n",
              "      <td>NaN</td>\n",
              "      <td>NaN</td>\n",
              "      <td>NaN</td>\n",
              "      <td>NaN</td>\n",
              "      <td>1.620382e+07</td>\n",
              "      <td>NaN</td>\n",
              "      <td>NaN</td>\n",
              "      <td>0.653328</td>\n",
              "      <td>3.934696</td>\n",
              "    </tr>\n",
              "    <tr>\n",
              "      <th>min</th>\n",
              "      <td>1.096500e+04</td>\n",
              "      <td>NaN</td>\n",
              "      <td>NaN</td>\n",
              "      <td>NaN</td>\n",
              "      <td>NaN</td>\n",
              "      <td>NaN</td>\n",
              "      <td>1.581476e+09</td>\n",
              "      <td>NaN</td>\n",
              "      <td>NaN</td>\n",
              "      <td>-0.998900</td>\n",
              "      <td>-27.000000</td>\n",
              "    </tr>\n",
              "    <tr>\n",
              "      <th>25%</th>\n",
              "      <td>3.671965e+06</td>\n",
              "      <td>NaN</td>\n",
              "      <td>NaN</td>\n",
              "      <td>NaN</td>\n",
              "      <td>NaN</td>\n",
              "      <td>NaN</td>\n",
              "      <td>1.596098e+09</td>\n",
              "      <td>NaN</td>\n",
              "      <td>NaN</td>\n",
              "      <td>-0.803000</td>\n",
              "      <td>1.000000</td>\n",
              "    </tr>\n",
              "    <tr>\n",
              "      <th>50%</th>\n",
              "      <td>9.569694e+06</td>\n",
              "      <td>NaN</td>\n",
              "      <td>NaN</td>\n",
              "      <td>NaN</td>\n",
              "      <td>NaN</td>\n",
              "      <td>NaN</td>\n",
              "      <td>1.608649e+09</td>\n",
              "      <td>NaN</td>\n",
              "      <td>NaN</td>\n",
              "      <td>-0.318200</td>\n",
              "      <td>2.000000</td>\n",
              "    </tr>\n",
              "    <tr>\n",
              "      <th>75%</th>\n",
              "      <td>1.390160e+07</td>\n",
              "      <td>NaN</td>\n",
              "      <td>NaN</td>\n",
              "      <td>NaN</td>\n",
              "      <td>NaN</td>\n",
              "      <td>NaN</td>\n",
              "      <td>1.627179e+09</td>\n",
              "      <td>NaN</td>\n",
              "      <td>NaN</td>\n",
              "      <td>0.435200</td>\n",
              "      <td>3.000000</td>\n",
              "    </tr>\n",
              "    <tr>\n",
              "      <th>max</th>\n",
              "      <td>1.777703e+07</td>\n",
              "      <td>NaN</td>\n",
              "      <td>NaN</td>\n",
              "      <td>NaN</td>\n",
              "      <td>NaN</td>\n",
              "      <td>NaN</td>\n",
              "      <td>1.635181e+09</td>\n",
              "      <td>NaN</td>\n",
              "      <td>NaN</td>\n",
              "      <td>0.999400</td>\n",
              "      <td>46.000000</td>\n",
              "    </tr>\n",
              "  </tbody>\n",
              "</table>\n",
              "</div>"
            ],
            "text/plain": [
              "          Unnamed: 0     type  ...    sentiment        score\n",
              "count   2.296000e+03     2296  ...  2285.000000  2296.000000\n",
              "unique           NaN        1  ...          NaN          NaN\n",
              "top              NaN  comment  ...          NaN          NaN\n",
              "freq             NaN     2296  ...          NaN          NaN\n",
              "mean    9.052432e+06      NaN  ...    -0.178967     2.344948\n",
              "std     5.502129e+06      NaN  ...     0.653328     3.934696\n",
              "min     1.096500e+04      NaN  ...    -0.998900   -27.000000\n",
              "25%     3.671965e+06      NaN  ...    -0.803000     1.000000\n",
              "50%     9.569694e+06      NaN  ...    -0.318200     2.000000\n",
              "75%     1.390160e+07      NaN  ...     0.435200     3.000000\n",
              "max     1.777703e+07      NaN  ...     0.999400    46.000000\n",
              "\n",
              "[11 rows x 11 columns]"
            ]
          },
          "metadata": {},
          "execution_count": 4
        }
      ]
    },
    {
      "cell_type": "markdown",
      "source": [
        "Now, let's remove the columns that will not be needed in training the NLP model."
      ],
      "metadata": {
        "id": "NJ_oFQHFNwuL"
      }
    },
    {
      "cell_type": "code",
      "source": [
        "def remove_columns(dfs: list, cols: list) -> None:\n",
        "  \"\"\"\n",
        "  Removes the specified columns from the given dataframes.\n",
        "\n",
        "  Precondition:\n",
        "    - all(df1.columns == df2.columns for df1 in dfs for df2 in dfs)\n",
        "  \"\"\"\n",
        "  for df in dfs:\n",
        "    df.drop(columns = cols, inplace = True)"
      ],
      "metadata": {
        "id": "aoRFfIjSAW4Q"
      },
      "execution_count": 5,
      "outputs": []
    },
    {
      "cell_type": "code",
      "source": [
        "dfs = [dataset_filtered, dataset_filtered_us]\n",
        "cols = ['Unnamed: 0', 'type', 'id', 'subreddit.id', 'subreddit.name',\n",
        "        'subreddit.nsfw', 'permalink', 'sentiment', 'score']\n",
        "\n",
        "remove_columns(dfs, cols)"
      ],
      "metadata": {
        "id": "CwLVNIvLEc4O"
      },
      "execution_count": 6,
      "outputs": []
    },
    {
      "cell_type": "markdown",
      "source": [
        "Let's add an 'id' column to allow for indexing rows, if needed."
      ],
      "metadata": {
        "id": "7LJ9AAkkN5Hd"
      }
    },
    {
      "cell_type": "code",
      "source": [
        "def add_id(dfs: list)->None:\n",
        "  \"\"\"\n",
        "  Add an id column to the input dataframes.\n",
        "  \"\"\"\n",
        "  for df_index in range(len(dfs)):\n",
        "    dfs[df_index].insert(0, 'id', dfs[df_index].index)\n",
        "    #dfs[df_index]['id'] = dfs[df_index].index\n",
        "    dfs[df_index].set_index('id')"
      ],
      "metadata": {
        "id": "qmfj0ifbGC0V"
      },
      "execution_count": 7,
      "outputs": []
    },
    {
      "cell_type": "code",
      "source": [
        "dfs = [dataset_filtered, dataset_filtered_us]\n",
        "\n",
        "add_id(dfs)"
      ],
      "metadata": {
        "id": "hgIFjP6zG-54"
      },
      "execution_count": 8,
      "outputs": []
    },
    {
      "cell_type": "markdown",
      "source": [
        "We must also consider whether the dataframes have any empty values."
      ],
      "metadata": {
        "id": "44-TA1iVOLU8"
      }
    },
    {
      "cell_type": "code",
      "source": [
        "dfs[0].isnull().sum()"
      ],
      "metadata": {
        "colab": {
          "base_uri": "https://localhost:8080/"
        },
        "id": "9Nwywm14JpeN",
        "outputId": "34203c04-4561-428a-81e6-ac6c40a49e7f"
      },
      "execution_count": 9,
      "outputs": [
        {
          "output_type": "execute_result",
          "data": {
            "text/plain": [
              "id             0\n",
              "created_utc    0\n",
              "body           0\n",
              "dtype: int64"
            ]
          },
          "metadata": {},
          "execution_count": 9
        }
      ]
    },
    {
      "cell_type": "code",
      "source": [
        "dfs[1].isnull().sum()"
      ],
      "metadata": {
        "colab": {
          "base_uri": "https://localhost:8080/"
        },
        "id": "DhztZOolJxJX",
        "outputId": "ebba79e9-34e6-4b6b-bdbc-82418eaeb4e1"
      },
      "execution_count": 10,
      "outputs": [
        {
          "output_type": "execute_result",
          "data": {
            "text/plain": [
              "id             0\n",
              "created_utc    0\n",
              "body           0\n",
              "dtype: int64"
            ]
          },
          "metadata": {},
          "execution_count": 10
        }
      ]
    },
    {
      "cell_type": "markdown",
      "source": [
        "Since both dataframes have empty values, they must be taken care of. \n",
        "\n",
        "There are two possible things that can be done here: removing the rows with empty values, or replacing the empty rows by their mean (a process called imputation). \n",
        "\n",
        "I've decided to drop NaN/null values instead of practicing imputation. Imputation would reduce the accuracy of dataset as there is no guarantee that the value being substituted inplace of the null value would correctly reflect the sentiment of the comment."
      ],
      "metadata": {
        "id": "Q1g1X9IbKgOf"
      }
    },
    {
      "cell_type": "code",
      "source": [
        "def drop_null_rows(dfs: list):\n",
        "  \"\"\"\n",
        "  Drop all rows that are missing any values.\n",
        "  \"\"\"\n",
        "  for df_index in range(len(dfs)):\n",
        "    dfs[df_index].dropna(inplace=True)"
      ],
      "metadata": {
        "id": "6kIbdcs2Knlh"
      },
      "execution_count": 11,
      "outputs": []
    },
    {
      "cell_type": "code",
      "source": [
        "dfs = [dataset_filtered, dataset_filtered_us]\n",
        "\n",
        "drop_null_rows(dfs)"
      ],
      "metadata": {
        "id": "UBo7ICflMGEH"
      },
      "execution_count": 12,
      "outputs": []
    },
    {
      "cell_type": "markdown",
      "source": [
        "Final Datasets:"
      ],
      "metadata": {
        "id": "WQPO76iAOnKU"
      }
    },
    {
      "cell_type": "code",
      "source": [
        "dfs[0].head()"
      ],
      "metadata": {
        "colab": {
          "base_uri": "https://localhost:8080/",
          "height": 206
        },
        "id": "1UfaXOH4M1qw",
        "outputId": "402ca8f1-c262-45ad-b839-c2ce30ab3851"
      },
      "execution_count": 13,
      "outputs": [
        {
          "output_type": "execute_result",
          "data": {
            "text/html": [
              "<div>\n",
              "<style scoped>\n",
              "    .dataframe tbody tr th:only-of-type {\n",
              "        vertical-align: middle;\n",
              "    }\n",
              "\n",
              "    .dataframe tbody tr th {\n",
              "        vertical-align: top;\n",
              "    }\n",
              "\n",
              "    .dataframe thead th {\n",
              "        text-align: right;\n",
              "    }\n",
              "</style>\n",
              "<table border=\"1\" class=\"dataframe\">\n",
              "  <thead>\n",
              "    <tr style=\"text-align: right;\">\n",
              "      <th></th>\n",
              "      <th>id</th>\n",
              "      <th>created_utc</th>\n",
              "      <th>body</th>\n",
              "    </tr>\n",
              "  </thead>\n",
              "  <tbody>\n",
              "    <tr>\n",
              "      <th>0</th>\n",
              "      <td>0</td>\n",
              "      <td>1635206220</td>\n",
              "      <td>Once my kid can get the vax.... I'm gonna have...</td>\n",
              "    </tr>\n",
              "    <tr>\n",
              "      <th>1</th>\n",
              "      <td>1</td>\n",
              "      <td>1635205901</td>\n",
              "      <td>Here's two decent little articles:\\n\\nhttps://...</td>\n",
              "    </tr>\n",
              "    <tr>\n",
              "      <th>2</th>\n",
              "      <td>2</td>\n",
              "      <td>1635205676</td>\n",
              "      <td>Because everyone else got polio vaccines too, ...</td>\n",
              "    </tr>\n",
              "    <tr>\n",
              "      <th>3</th>\n",
              "      <td>3</td>\n",
              "      <td>1635205465</td>\n",
              "      <td>I see a lot of covid republican expatients vot...</td>\n",
              "    </tr>\n",
              "    <tr>\n",
              "      <th>4</th>\n",
              "      <td>4</td>\n",
              "      <td>1635205392</td>\n",
              "      <td>Because his tone changed. Leading most people ...</td>\n",
              "    </tr>\n",
              "  </tbody>\n",
              "</table>\n",
              "</div>"
            ],
            "text/plain": [
              "   id  created_utc                                               body\n",
              "0   0   1635206220  Once my kid can get the vax.... I'm gonna have...\n",
              "1   1   1635205901  Here's two decent little articles:\\n\\nhttps://...\n",
              "2   2   1635205676  Because everyone else got polio vaccines too, ...\n",
              "3   3   1635205465  I see a lot of covid republican expatients vot...\n",
              "4   4   1635205392  Because his tone changed. Leading most people ..."
            ]
          },
          "metadata": {},
          "execution_count": 13
        }
      ]
    },
    {
      "cell_type": "code",
      "source": [
        "dfs[1].head()"
      ],
      "metadata": {
        "colab": {
          "base_uri": "https://localhost:8080/",
          "height": 206
        },
        "id": "Rrs-ItBdNEcN",
        "outputId": "39a4b8c4-2d93-4916-c6bf-c30616f540c7"
      },
      "execution_count": 14,
      "outputs": [
        {
          "output_type": "execute_result",
          "data": {
            "text/html": [
              "<div>\n",
              "<style scoped>\n",
              "    .dataframe tbody tr th:only-of-type {\n",
              "        vertical-align: middle;\n",
              "    }\n",
              "\n",
              "    .dataframe tbody tr th {\n",
              "        vertical-align: top;\n",
              "    }\n",
              "\n",
              "    .dataframe thead th {\n",
              "        text-align: right;\n",
              "    }\n",
              "</style>\n",
              "<table border=\"1\" class=\"dataframe\">\n",
              "  <thead>\n",
              "    <tr style=\"text-align: right;\">\n",
              "      <th></th>\n",
              "      <th>id</th>\n",
              "      <th>created_utc</th>\n",
              "      <th>body</th>\n",
              "    </tr>\n",
              "  </thead>\n",
              "  <tbody>\n",
              "    <tr>\n",
              "      <th>0</th>\n",
              "      <td>0</td>\n",
              "      <td>1635181242</td>\n",
              "      <td>&amp;gt;An Asian American mother with a master’s d...</td>\n",
              "    </tr>\n",
              "    <tr>\n",
              "      <th>1</th>\n",
              "      <td>1</td>\n",
              "      <td>1635158133</td>\n",
              "      <td>&amp;gt;For many Americans, Donald Trump will be r...</td>\n",
              "    </tr>\n",
              "    <tr>\n",
              "      <th>2</th>\n",
              "      <td>2</td>\n",
              "      <td>1635120959</td>\n",
              "      <td>Fauci admitted to downplaying the importance o...</td>\n",
              "    </tr>\n",
              "    <tr>\n",
              "      <th>3</th>\n",
              "      <td>3</td>\n",
              "      <td>1635112618</td>\n",
              "      <td>“Fauci holds x opinion while a private company...</td>\n",
              "    </tr>\n",
              "    <tr>\n",
              "      <th>4</th>\n",
              "      <td>4</td>\n",
              "      <td>1635110006</td>\n",
              "      <td>Na. Its what an intelligent person would say.\\...</td>\n",
              "    </tr>\n",
              "  </tbody>\n",
              "</table>\n",
              "</div>"
            ],
            "text/plain": [
              "   id  created_utc                                               body\n",
              "0   0   1635181242  &gt;An Asian American mother with a master’s d...\n",
              "1   1   1635158133  &gt;For many Americans, Donald Trump will be r...\n",
              "2   2   1635120959  Fauci admitted to downplaying the importance o...\n",
              "3   3   1635112618  “Fauci holds x opinion while a private company...\n",
              "4   4   1635110006  Na. Its what an intelligent person would say.\\..."
            ]
          },
          "metadata": {},
          "execution_count": 14
        }
      ]
    },
    {
      "cell_type": "code",
      "source": [
        "# exporting dataframes\n",
        "\n",
        "from google.colab import files\n",
        "\n",
        "dataset_filtered.to_csv('dataset_filtered_pandas.csv', encoding='utf-8')\n",
        "files.download('dataset_filtered_pandas.csv')\n",
        "\n",
        "dataset_filtered_us.to_csv('dataset_filtered_us_pandas.csv', encoding='utf-8')\n",
        "files.download('dataset_filtered_us_pandas.csv')"
      ],
      "metadata": {
        "colab": {
          "base_uri": "https://localhost:8080/",
          "height": 17
        },
        "id": "-mkVGo6cQwZe",
        "outputId": "363b7e0f-363b-419b-b218-b5083ecabc16"
      },
      "execution_count": 15,
      "outputs": [
        {
          "output_type": "display_data",
          "data": {
            "application/javascript": [
              "\n",
              "    async function download(id, filename, size) {\n",
              "      if (!google.colab.kernel.accessAllowed) {\n",
              "        return;\n",
              "      }\n",
              "      const div = document.createElement('div');\n",
              "      const label = document.createElement('label');\n",
              "      label.textContent = `Downloading \"${filename}\": `;\n",
              "      div.appendChild(label);\n",
              "      const progress = document.createElement('progress');\n",
              "      progress.max = size;\n",
              "      div.appendChild(progress);\n",
              "      document.body.appendChild(div);\n",
              "\n",
              "      const buffers = [];\n",
              "      let downloaded = 0;\n",
              "\n",
              "      const channel = await google.colab.kernel.comms.open(id);\n",
              "      // Send a message to notify the kernel that we're ready.\n",
              "      channel.send({})\n",
              "\n",
              "      for await (const message of channel.messages) {\n",
              "        // Send a message to notify the kernel that we're ready.\n",
              "        channel.send({})\n",
              "        if (message.buffers) {\n",
              "          for (const buffer of message.buffers) {\n",
              "            buffers.push(buffer);\n",
              "            downloaded += buffer.byteLength;\n",
              "            progress.value = downloaded;\n",
              "          }\n",
              "        }\n",
              "      }\n",
              "      const blob = new Blob(buffers, {type: 'application/binary'});\n",
              "      const a = document.createElement('a');\n",
              "      a.href = window.URL.createObjectURL(blob);\n",
              "      a.download = filename;\n",
              "      div.appendChild(a);\n",
              "      a.click();\n",
              "      div.remove();\n",
              "    }\n",
              "  "
            ],
            "text/plain": [
              "<IPython.core.display.Javascript object>"
            ]
          },
          "metadata": {}
        },
        {
          "output_type": "display_data",
          "data": {
            "application/javascript": [
              "download(\"download_f5002d32-8aa8-439e-b67d-4a4221daaeb8\", \"dataset_filtered_pandas.csv\", 16355835)"
            ],
            "text/plain": [
              "<IPython.core.display.Javascript object>"
            ]
          },
          "metadata": {}
        },
        {
          "output_type": "display_data",
          "data": {
            "application/javascript": [
              "\n",
              "    async function download(id, filename, size) {\n",
              "      if (!google.colab.kernel.accessAllowed) {\n",
              "        return;\n",
              "      }\n",
              "      const div = document.createElement('div');\n",
              "      const label = document.createElement('label');\n",
              "      label.textContent = `Downloading \"${filename}\": `;\n",
              "      div.appendChild(label);\n",
              "      const progress = document.createElement('progress');\n",
              "      progress.max = size;\n",
              "      div.appendChild(progress);\n",
              "      document.body.appendChild(div);\n",
              "\n",
              "      const buffers = [];\n",
              "      let downloaded = 0;\n",
              "\n",
              "      const channel = await google.colab.kernel.comms.open(id);\n",
              "      // Send a message to notify the kernel that we're ready.\n",
              "      channel.send({})\n",
              "\n",
              "      for await (const message of channel.messages) {\n",
              "        // Send a message to notify the kernel that we're ready.\n",
              "        channel.send({})\n",
              "        if (message.buffers) {\n",
              "          for (const buffer of message.buffers) {\n",
              "            buffers.push(buffer);\n",
              "            downloaded += buffer.byteLength;\n",
              "            progress.value = downloaded;\n",
              "          }\n",
              "        }\n",
              "      }\n",
              "      const blob = new Blob(buffers, {type: 'application/binary'});\n",
              "      const a = document.createElement('a');\n",
              "      a.href = window.URL.createObjectURL(blob);\n",
              "      a.download = filename;\n",
              "      div.appendChild(a);\n",
              "      a.click();\n",
              "      div.remove();\n",
              "    }\n",
              "  "
            ],
            "text/plain": [
              "<IPython.core.display.Javascript object>"
            ]
          },
          "metadata": {}
        },
        {
          "output_type": "display_data",
          "data": {
            "application/javascript": [
              "download(\"download_af73dd7e-dec9-4806-8183-e2a20e40a761\", \"dataset_filtered_us_pandas.csv\", 1857422)"
            ],
            "text/plain": [
              "<IPython.core.display.Javascript object>"
            ]
          },
          "metadata": {}
        }
      ]
    }
  ]
}